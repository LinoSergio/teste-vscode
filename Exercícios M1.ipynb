{
 "cells": [
  {
   "cell_type": "code",
   "execution_count": null,
   "metadata": {},
   "outputs": [],
   "source": [
    "# Realizando exercícios no Jupyter noterbook"
   ]
  },
  {
   "cell_type": "code",
   "execution_count": 1,
   "metadata": {},
   "outputs": [
    {
     "name": "stdout",
     "output_type": "stream",
     "text": [
      "Lino Sérgio Rocha Conceição\n"
     ]
    }
   ],
   "source": [
    "# Questão 1\n",
    "print(\"Lino Sérgio Rocha Conceição\")"
   ]
  },
  {
   "cell_type": "code",
   "execution_count": 2,
   "metadata": {},
   "outputs": [
    {
     "name": "stdout",
     "output_type": "stream",
     "text": [
      "150\n"
     ]
    }
   ],
   "source": [
    "# Questão 2\n",
    "a = 2\n",
    "b = 5\n",
    "print(5*a * 3*b)"
   ]
  },
  {
   "cell_type": "code",
   "execution_count": 3,
   "metadata": {},
   "outputs": [
    {
     "name": "stdout",
     "output_type": "stream",
     "text": [
      "9\n"
     ]
    }
   ],
   "source": [
    "# Questão 3\n",
    "a = 2\n",
    "b = 5\n",
    "c = 2\n",
    "print(a+b+c)"
   ]
  },
  {
   "cell_type": "code",
   "execution_count": 4,
   "metadata": {},
   "outputs": [
    {
     "name": "stdout",
     "output_type": "stream",
     "text": [
      "O resultado é 100.0\n"
     ]
    }
   ],
   "source": [
    "# Questão 4\n",
    "\n",
    "a = float(input('Digite o primeiro número'))\n",
    "b = float(input('Digite o segundo número'))\n",
    "operacao = input(\"Qual operação deseja realizar? +,-,*,/\")\n",
    "if operacao == \"+\":\n",
    "        resultado = (a+b)\n",
    "elif operacao == \"-\":\n",
    "        resultado = (a-b)\n",
    "elif operacao == \"*\":\n",
    "        resultado = (a*b)\n",
    "elif operacao == \"/\":\n",
    "        resultado = (a/b)\n",
    "print(\"O resultado é\",resultado)"
   ]
  }
 ],
 "metadata": {
  "kernelspec": {
   "display_name": "Python 3.10.7 64-bit",
   "language": "python",
   "name": "python3"
  },
  "language_info": {
   "codemirror_mode": {
    "name": "ipython",
    "version": 3
   },
   "file_extension": ".py",
   "mimetype": "text/x-python",
   "name": "python",
   "nbconvert_exporter": "python",
   "pygments_lexer": "ipython3",
   "version": "3.10.7"
  },
  "orig_nbformat": 4,
  "vscode": {
   "interpreter": {
    "hash": "aee8b7b246df8f9039afb4144a1f6fd8d2ca17a180786b69acc140d282b71a49"
   }
  }
 },
 "nbformat": 4,
 "nbformat_minor": 2
}
